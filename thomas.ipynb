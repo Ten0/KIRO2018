{
 "cells": [
  {
   "cell_type": "code",
   "execution_count": 2,
   "metadata": {
    "collapsed": true
   },
   "outputs": [],
   "source": [
    "import networkx as nx\n",
    "import pandas as pd\n",
    "import numpy as np\n",
    "import matplotlib.pyplot as plt\n",
    "import seaborn as sns\n",
    "sns.set(style=\"darkgrid\")\n",
    "%matplotlib inline"
   ]
  },
  {
   "cell_type": "code",
   "execution_count": 3,
   "metadata": {
    "collapsed": true
   },
   "outputs": [],
   "source": [
    "town = \"grenoble\"\n",
    "t = \"Type\" if town != \"pim\" else \"type\"\n",
    "df_nodes = pd.read_csv(f\"{town}/nodes.csv\", sep=\";\")\n",
    "X = np.array(df_nodes['X'])\n",
    "Y = np.array(df_nodes['Y'])\n",
    "C = np.where(df_nodes[t] == 'distribution')[0]\n",
    "T = np.where(df_nodes[t] != 'distribution')[0]"
   ]
  },
  {
   "cell_type": "code",
   "execution_count": 4,
   "metadata": {},
   "outputs": [
    {
     "data": {
      "text/plain": [
       "5.5"
      ]
     },
     "execution_count": 4,
     "metadata": {},
     "output_type": "execute_result"
    }
   ],
   "source": [
    "T.size / C.size"
   ]
  },
  {
   "cell_type": "code",
   "execution_count": 5,
   "metadata": {
    "collapsed": true
   },
   "outputs": [],
   "source": [
    "D = np.concatenate([[0], np.array(pd.read_csv(f\"{town}/distances.csv\", sep=\";\")).reshape(-1)])\n",
    "D = D.reshape((X.size, X.size))"
   ]
  },
  {
   "cell_type": "code",
   "execution_count": 6,
   "metadata": {},
   "outputs": [
    {
     "data": {
      "text/plain": [
       "<matplotlib.collections.PathCollection at 0x7f29f5d57908>"
      ]
     },
     "execution_count": 6,
     "metadata": {},
     "output_type": "execute_result"
    },
    {
     "data": {
      "image/png": "[encoded data removed]",
      "text/plain": [
       "<Figure size 432x288 with 1 Axes>"
      ]
     },
     "metadata": {},
     "output_type": "display_data"
    }
   ],
   "source": [
    "plt.scatter(X[T], Y[T])\n",
    "plt.scatter(X[C], Y[C])"
   ]
  },
  {
   "cell_type": "code",
   "execution_count": 7,
   "metadata": {},
   "outputs": [
    {
     "data": {
      "text/plain": [
       "371.49112426035504"
      ]
     },
     "execution_count": 7,
     "metadata": {},
     "output_type": "execute_result"
    }
   ],
   "source": [
    "np.mean(D)"
   ]
  },
  {
   "cell_type": "code",
   "execution_count": 8,
   "metadata": {},
   "outputs": [
    {
     "name": "stdout",
     "output_type": "stream",
     "text": [
      "{2: Arc(tail=2, weight=16, head=0), 4: Arc(tail=4, weight=8, head=2), 5: Arc(tail=5, weight=6, head=4), 6: Arc(tail=6, weight=4, head=5), 1: Arc(tail=1, weight=3, head=2), 3: Arc(tail=3, weight=3, head=1)}\n"
     ]
    }
   ],
   "source": [
    "from collections import defaultdict, namedtuple\n",
    "\n",
    "\n",
    "Arc = namedtuple('Arc', ('tail', 'weight', 'head'))\n",
    "\n",
    "\n",
    "def min_spanning_arborescence(arcs, sink):\n",
    "    good_arcs = []\n",
    "    quotient_map = {arc.tail: arc.tail for arc in arcs}\n",
    "    quotient_map[sink] = sink\n",
    "    while True:\n",
    "        min_arc_by_tail_rep = {}\n",
    "        successor_rep = {}\n",
    "        for arc in arcs:\n",
    "            if arc.tail == sink:\n",
    "                continue\n",
    "            tail_rep = quotient_map[arc.tail]\n",
    "            head_rep = quotient_map[arc.head]\n",
    "            if tail_rep == head_rep:\n",
    "                continue\n",
    "            if tail_rep not in min_arc_by_tail_rep or min_arc_by_tail_rep[tail_rep].weight > arc.weight:\n",
    "                min_arc_by_tail_rep[tail_rep] = arc\n",
    "                successor_rep[tail_rep] = head_rep\n",
    "        cycle_reps = find_cycle(successor_rep, sink)\n",
    "        if cycle_reps is None:\n",
    "            good_arcs.extend(min_arc_by_tail_rep.values())\n",
    "            return spanning_arborescence(good_arcs, sink)\n",
    "        good_arcs.extend(min_arc_by_tail_rep[cycle_rep] for cycle_rep in cycle_reps)\n",
    "        cycle_rep_set = set(cycle_reps)\n",
    "        cycle_rep = cycle_rep_set.pop()\n",
    "        quotient_map = {node: cycle_rep if node_rep in cycle_rep_set else node_rep for node, node_rep in quotient_map.items()}\n",
    "\n",
    "\n",
    "def find_cycle(successor, sink):\n",
    "    visited = {sink}\n",
    "    for node in successor:\n",
    "        cycle = []\n",
    "        while node not in visited:\n",
    "            visited.add(node)\n",
    "            cycle.append(node)\n",
    "            node = successor[node]\n",
    "        if node in cycle:\n",
    "            return cycle[cycle.index(node):]\n",
    "    return None\n",
    "\n",
    "\n",
    "def spanning_arborescence(arcs, sink):\n",
    "    arcs_by_head = defaultdict(list)\n",
    "    for arc in arcs:\n",
    "        if arc.tail == sink:\n",
    "            continue\n",
    "        arcs_by_head[arc.head].append(arc)\n",
    "    solution_arc_by_tail = {}\n",
    "    stack = arcs_by_head[sink]\n",
    "    while stack:\n",
    "        arc = stack.pop()\n",
    "        if arc.tail in solution_arc_by_tail:\n",
    "            continue\n",
    "        solution_arc_by_tail[arc.tail] = arc\n",
    "        stack.extend(arcs_by_head[arc.tail])\n",
    "    return solution_arc_by_tail\n",
    "\n",
    "\n",
    "print(min_spanning_arborescence([Arc(1, 17, 0), Arc(2, 16, 0), Arc(3, 19, 0), Arc(4, 16, 0), Arc(5, 16, 0), Arc(6, 18, 0), Arc(2, 3, 1), Arc(3, 3, 1), Arc(4, 11, 1), Arc(5, 10, 1), Arc(6, 12, 1), Arc(1, 3, 2), Arc(3, 4, 2), Arc(4, 8, 2), Arc(5, 8, 2), Arc(6, 11, 2), Arc(1, 3, 3), Arc(2, 4, 3), Arc(4, 12, 3), Arc(5, 11, 3), Arc(6, 14, 3), Arc(1, 11, 4), Arc(2, 8, 4), Arc(3, 12, 4), Arc(5, 6, 4), Arc(6, 10, 4), Arc(1, 10, 5), Arc(2, 8, 5), Arc(3, 11, 5), Arc(4, 6, 5), Arc(6, 4, 5), Arc(1, 12, 6), Arc(2, 11, 6), Arc(3, 14, 6), Arc(4, 10, 6), Arc(5, 4, 6)], 0))\n"
   ]
  },
  {
   "cell_type": "code",
   "execution_count": null,
   "metadata": {},
   "outputs": [],
   "source": []
  }
 ],
 "metadata": {
  "kernelspec": {
   "display_name": "Python 3",
   "language": "python",
   "name": "python3"
  },
  "language_info": {
   "codemirror_mode": {
    "name": "ipython",
    "version": 3
   },
   "file_extension": ".py",
   "mimetype": "text/x-python",
   "name": "python",
   "nbconvert_exporter": "python",
   "pygments_lexer": "ipython3",
   "version": "3.6.5"
  }
 },
 "nbformat": 4,
 "nbformat_minor": 2
}
